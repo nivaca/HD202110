{
 "cells": [
  {
   "cell_type": "markdown",
   "metadata": {},
   "source": [
    "# Herramientas digitales \n",
    "## Módulo 1: Texto digital (202110)\n",
    "\n",
    "## [Maestría en Humanidades Digitales, Universidad de los Andes](https://posgradosfacartes.uniandes.edu.co/programas/humanidades-digitales/)\n",
    "\n",
    "#### [Nicolás Vaughan](https://posgradosfacartes.uniandes.edu.co/miembro/nicolas-vaughan-caro/)"
   ]
  },
  {
   "cell_type": "markdown",
   "metadata": {},
   "source": [
    "***  "
   ]
  },
  {
   "cell_type": "markdown",
   "metadata": {},
   "source": [
    "\n",
    "# Sesiones\n",
    "\n",
    "## [1. Introducción a RegEx](Ses_01RE.ipynb) (feb. 5)\n",
    "\n",
    "## [2. Introducción a HTML5 y CSS3](Ses_02HTML.ipynb) (feb. 12)\n",
    "\n",
    "## [3. Introducción a TEI](Ses_03TEI.ipynb) (feb. 19)\n",
    "\n",
    "## [4. Introducción a XPath y XSLT (1)](Ses_04XSLT1.ipynb) (feb. 26)\n",
    "\n",
    "## [5.  Introducción a XPath y XSLT (2)](Ses_05XSLT2.ipynb) (mar. 5)"
   ]
  },
  {
   "cell_type": "code",
   "execution_count": null,
   "metadata": {},
   "outputs": [],
   "source": []
  }
 ],
 "metadata": {
  "kernelspec": {
   "display_name": "Python 3",
   "language": "python",
   "name": "python3"
  },
  "language_info": {
   "codemirror_mode": {
    "name": "ipython",
    "version": 3
   },
   "file_extension": ".py",
   "mimetype": "text/x-python",
   "name": "python",
   "nbconvert_exporter": "python",
   "pygments_lexer": "ipython3",
   "version": "3.9.1"
  }
 },
 "nbformat": 4,
 "nbformat_minor": 2
}
