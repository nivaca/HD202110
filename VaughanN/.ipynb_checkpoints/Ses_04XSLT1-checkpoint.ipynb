{
 "cells": [
  {
   "cell_type": "markdown",
   "metadata": {},
   "source": [
    "# Herramientas digitales \n",
    "## Módulo 1: Texto digital (202021)\n",
    "\n",
    "## [Maestría en Humanidades Digitales, Universidad de los Andes](https://posgradosfacartes.uniandes.edu.co/programas/humanidades-digitales/)\n",
    "\n",
    "#### [Nicolás Vaughan](https://posgradosfacartes.uniandes.edu.co/miembro/nicolas-vaughan-caro/)\n",
    "\n",
    "## Sesión 4: Introducción a XPath y XSLT"
   ]
  },
  {
   "cell_type": "markdown",
   "metadata": {},
   "source": [
    "***  "
   ]
  },
  {
   "cell_type": "markdown",
   "metadata": {},
   "source": [
    "# 1. Oxgarage\n",
    "\n",
    "- Oxgarage (https://oxgarage.tei-c.org/) es una aplicación web, creada por el TEI-C, para transformar documentos TEI a varios formatos comunes y viceversa.\n",
    "\n",
    "- Por ejemplo, guarden en su computador y suban a Oxgarage el documento: https://raw.githubusercontent.com/nivaca/HD2020-20/master/otros/tei/cartabolivar.xml\n",
    "\n",
    "- Prueben convirtiéndolo a varios formatos.\n",
    "\n",
    "![oxgarage](https://raw.githubusercontent.com/nivaca/HD202010/master/img/oxgarage.png)\n",
    "\n",
    "---\n"
   ]
  },
  {
   "cell_type": "markdown",
   "metadata": {},
   "source": [
    "# 2. XPath\n",
    "\n",
    "- Bajen y abran en Oxygen XML Editor el archivo https://raw.githubusercontent.com/nivaca/HD2020-20/master/otros/tei/cartabolivar.xml\n",
    "\n",
    "- En la barra de XPath en Oxygen XML Editor\n",
    " \n",
    "![oxxpath](https://raw.githubusercontent.com/nivaca/HD202010/master/img/oxxpath.png)\n",
    "\n",
    "sobre el documento cartabolivar.xml`, hagan las siguientes búsquedas:\n",
    "\n",
    "- `/TEI/teiHeader/fileDesc/titleStmt/title`\n",
    "- `//title`\n",
    "- `//title[@type=\"periódico\"]`\n",
    "- `//p/title`\n",
    "- `//p[1]`\n",
    "- `//p[last()]`\n",
    "- `//p[last()-1]`\n",
    "- `count(//p)`\n",
    "- `//num[@value]`\n",
    "- `//num/@value`\n",
    "- `sum(//num/@value)`\n",
    "- `//num/.`\n",
    "- `//p/.`\n",
    "- `//p[1]/.`\n",
    "- `//p[1]/normalize-space(.)`\n",
    "- `substring-before(//p[1]/normalize-space(.), ' ')`\n",
    "- `replace(//p[3], 'imposible', 'inconcebible')`\n",
    "\n",
    "\n",
    "- Para más detalles sobre el funcionamiento y la sintaxis de XPath vean [aquí](https://www.w3schools.com/xml/xpath_syntax.asp).\n",
    "---"
   ]
  },
  {
   "cell_type": "markdown",
   "metadata": {},
   "source": [
    "# 2. XSLT\n",
    "\n",
    "- Guarden en su computador el archivo [carta.xsl](https://raw.githubusercontent.com/nivaca/HD2020-20/master/otros/tei/carta.xsl) y ábranlo en Oxygen XML Editor.\n",
    "\n",
    "- Pasen a modo XSLT en Oxygen XML Editor:\n",
    "![oxxslt](https://raw.githubusercontent.com/nivaca/HD202010/master/img/oxxslt.png)\n",
    "\n",
    "<br/>\n",
    "\n",
    "- Asegúrense de que `cartabolivar.xml` y `carta.xsl` estén seleccionados en los campos `XML:` y `XSL:`, respectivamente en la barra de arriba:\n",
    "![oxxsltsetup](https://raw.githubusercontent.com/nivaca/HD202010/master/img/oxxsltsetup.png)\n",
    "\n",
    "<br/>\n",
    "\n",
    "- Ejecuten la transformación XSLT haciendo click en la flecha azul:\n",
    "![oxxsltrun](https://raw.githubusercontent.com/nivaca/HD202010/master/img/oxxsltrun.png)\n",
    "\n",
    "<br/>\n",
    "\n",
    "- Podemos *visualizar* el resultado como XHTML haciendo click en este botón y corriendo de nuevo la transformación:\n",
    "![oxxsltrun](https://raw.githubusercontent.com/nivaca/HD202010/master/img/oxxslthtmlprev.png)\n",
    "\n",
    "<br/>\n",
    "\n",
    "- O también podemos *guardar* el resultado como XHTML escribiendo un nombre de archivo en este campo y corriendo de nuevo la transformación:\n",
    "![oxxsltrun](https://raw.githubusercontent.com/nivaca/HD202010/master/img/oxxslthtmlout.png)\n",
    "---"
   ]
  }
 ],
 "metadata": {
  "kernelspec": {
   "display_name": "Python 3",
   "language": "python",
   "name": "python3"
  },
  "language_info": {
   "codemirror_mode": {
    "name": "ipython",
    "version": 3
   },
   "file_extension": ".py",
   "mimetype": "text/x-python",
   "name": "python",
   "nbconvert_exporter": "python",
   "pygments_lexer": "ipython3",
   "version": "3.9.1"
  }
 },
 "nbformat": 4,
 "nbformat_minor": 2
}
