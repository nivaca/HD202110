{
 "cells": [
  {
   "cell_type": "markdown",
   "metadata": {},
   "source": [
    "# Herramientas digitales \n",
    "## Módulo 1: Texto digital (202110)\n",
    "\n",
    "## [Maestría en Humanidades Digitales, Universidad de los Andes](https://posgradosfacartes.uniandes.edu.co/programas/humanidades-digitales/)\n",
    "\n",
    "#### [Nicolás Vaughan](https://posgradosfacartes.uniandes.edu.co/miembro/nicolas-vaughan-caro/)\n",
    "\n",
    "## Sesión 4: Introducción a Git"
   ]
  },
  {
   "cell_type": "markdown",
   "metadata": {},
   "source": [
    "***  "
   ]
  },
  {
   "cell_type": "markdown",
   "metadata": {},
   "source": [
    "# 1. Rudimentos de Bash\n",
    "\n",
    "- `cd` cambia de directorio, e.g. `cd mi_dir`\n",
    "- `cd ..` cambia al directorio inmediatamente superior\n",
    "- `cd ~` cambia al directorio del usuario\n",
    "- `cd \\` cambia al directorio raíz\n",
    "\n",
    "<br/>\n",
    "\n",
    "- `ls` lista el contenido del directorio actual\n",
    "- `ls -l` lista \"larga\", i.e. da más detalles\n",
    "\n",
    "<br/>\n",
    "\n",
    "- `mkdir` crea un directorio nuevo, e.g. `mkdir mi_dir`\n",
    "\n",
    "<br/>\n",
    "\n",
    "- `rm` elimina un archivo, e.g. `rm mi_archivo.txt`\n",
    "- `rm -fr` elimina un directorio (**usar con precaución**), e.g. `rm -fr mi_dir`\n",
    "\n",
    "<br/>\n",
    "\n",
    "- `touch` crea un archivo vacío o, si ya existe, actualiza su fecha de acceso, e.g. `touch mi_archivo.txt`\n",
    "\n",
    "***"
   ]
  },
  {
   "cell_type": "markdown",
   "metadata": {},
   "source": [
    "# 2. Git\n",
    "\n",
    "- Es una aplicación colaborativa de control de versiones.\n",
    "- Creado en 2005 por (Linus Torvalds)[https://en.wikipedia.org/wiki/Linus_Torvalds], el creador de Linux.\n",
    "- Es la aplicación de control de versiones más usado en el mundo actualmente ([más del 80%, al 2016](https://www.perforce.com/blog/vcs/git-vs-mercurial-how-are-they-different)).\n",
    "- Permite controlar cambios y versiones con completa granularidad en archivos de texto plano.\n",
    "\n",
    "## Git no es GitHub\n",
    "\n",
    "- \"GitHub es una forja (plataforma de desarrollo colaborativo) para alojar proyectos utilizando el sistema de control de versiones Git\" ((Wikipedia)[https://es.wikipedia.org/wiki/GitHub]).\n",
    "- GitHub también es la forja más usado en el mercado. Existen otras como (GitLab)[https://gitlab.com/].\n",
    "- GitHub hospeda en línea todo tipo de proyectos (públicos y privados) y controla cambios y versiones por medio de Git. (También tiene muchas más herramientas para trabajar y validar código, hospedar páginas web, etc.)\n",
    "\n"
   ]
  },
  {
   "cell_type": "code",
   "execution_count": null,
   "metadata": {},
   "outputs": [],
   "source": []
  }
 ],
 "metadata": {
  "kernelspec": {
   "display_name": "Python 3",
   "language": "python",
   "name": "python3"
  },
  "language_info": {
   "codemirror_mode": {
    "name": "ipython",
    "version": 3
   },
   "file_extension": ".py",
   "mimetype": "text/x-python",
   "name": "python",
   "nbconvert_exporter": "python",
   "pygments_lexer": "ipython3",
   "version": "3.9.1"
  }
 },
 "nbformat": 4,
 "nbformat_minor": 2
}
