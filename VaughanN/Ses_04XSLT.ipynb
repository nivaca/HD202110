{
 "cells": [
  {
   "cell_type": "markdown",
   "metadata": {},
   "source": [
    "# Herramientas digitales \n",
    "## Módulo 1: Texto digital (202110)\n",
    "\n",
    "## [Maestría en Humanidades Digitales, Universidad de los Andes](https://posgradosfacartes.uniandes.edu.co/programas/humanidades-digitales/)\n",
    "\n",
    "#### [Nicolás Vaughan](https://posgradosfacartes.uniandes.edu.co/miembro/nicolas-vaughan-caro/)\n",
    "\n",
    "## Sesión 4: Introducción a XPath y XSLT"
   ]
  },
  {
   "cell_type": "markdown",
   "metadata": {},
   "source": [
    "<!--\n",
    "# 1. Oxgarage\n",
    "\n",
    "- Oxgarage (https://oxgarage.tei-c.org/) es una aplicación web, creada por el TEI-C, para transformar documentos TEI a varios formatos comunes y viceversa.\n",
    "\n",
    "- Por ejemplo, guarden en su computador y suban a Oxgarage el documento: https://raw.githubusercontent.com/nivaca/HD202110/main/VaughanN/otros/tei/cartabolivar.xml\n",
    "\n",
    "- Prueben convirtiéndolo a varios formatos.\n",
    "\n",
    "![oxgarage](https://raw.githubusercontent.com/nivaca/HD202110/main/VaughanN/img/oxgarage.png)\n",
    "\n",
    "---\n",
    "-->"
   ]
  },
  {
   "cell_type": "markdown",
   "metadata": {},
   "source": [
    "# 1. XPath\n",
    "\n",
    "- Bajen y abran en Oxygen XML Editor el archivo [cartabolivar.xml](https://raw.githubusercontent.com/nivaca/HD202110/main/VaughanN/otros/tei/cartabolivar.xml).\n",
    "\n",
    "- En la barra de XPath en Oxygen XML Editor\n",
    " \n",
    "![oxxpath](https://raw.githubusercontent.com/nivaca/HD202110/main/VaughanN/img/oxxpath.png)\n",
    "\n",
    "sobre el documento `cartabolivar.xml`, hagan las siguientes búsquedas:\n",
    "\n",
    "- `/TEI/teiHeader/fileDesc/titleStmt/title`\n",
    "- `//title`\n",
    "- `//title[@type=\"periódico\"]`\n",
    "- `//p/title`\n",
    "- `//p[1]`\n",
    "- `//p[last()]`\n",
    "- `//p[last()-1]`\n",
    "- `//num/.`\n",
    "- `count(//p)`\n",
    "- `//num[@value]`\n",
    "- `//num/@value`\n",
    "- `sum(//num/@value)`\n",
    "\n",
    "- Para más detalles sobre el funcionamiento y la sintaxis de XPath vean [aquí](https://www.w3schools.com/xml/xpath_syntax.asp).\n",
    "---"
   ]
  },
  {
   "cell_type": "markdown",
   "metadata": {},
   "source": [
    "# 2. XSLT\n",
    "\n",
    "- Guarden en su computador el archivo [carta.xsl](https://raw.githubusercontent.com/nivaca/HD202110/main/VaughanN/otros/tei/carta.xsl) y ábranlo en Oxygen XML Editor.\n",
    "\n",
    "- Pasen a modo XSLT en Oxygen XML Editor:\n",
    "![oxxslt](https://raw.githubusercontent.com/nivaca/HD202110/main/VaughanN/img/oxxslt.png)\n",
    "\n",
    "<br/>\n",
    "\n",
    "- Asegúrense de que `cartabolivar.xml` y `carta.xsl` estén seleccionados en los campos `XML:` y `XSL:`, respectivamente en la barra de arriba:\n",
    "![oxxsltsetup](https://raw.githubusercontent.com/nivaca/HD202110/main/VaughanN/img/oxxsltsetup.png)\n",
    "\n",
    "<br/>\n",
    "\n",
    "- Ejecuten la transformación XSLT haciendo click en la flecha azul:\n",
    "![oxxsltrun](https://raw.githubusercontent.com/nivaca/HD202110/main/VaughanN/img/oxxsltrun.png)\n",
    "\n",
    "<br/>\n",
    "\n",
    "- Podemos *visualizar* el resultado como XHTML haciendo click en este botón y corriendo de nuevo la transformación:\n",
    "![oxxsltrun](https://raw.githubusercontent.com/nivaca/HD202110/main/VaughanN/img/oxxslthtmlprev.png)\n",
    "\n",
    "<br/>\n",
    "\n",
    "- O también podemos *guardar* el resultado como XHTML escribiendo un nombre de archivo en este campo y corriendo de nuevo la transformación:\n",
    "![oxxsltrun](https://raw.githubusercontent.com/nivaca/HD202110/main/VaughanN/img/oxxslthtmlout.png)\n",
    "---"
   ]
  },
  {
   "cell_type": "markdown",
   "metadata": {},
   "source": [
    "# Tarea 4\n",
    "A partir de nuestra codificación de la [*Carta de Jamaica*](https://raw.githubusercontent.com/nivaca/HD202110/main/VaughanN/otros/tei/cartabolivar.xml) deben crear un documento XSLT que contenga plantillas (*templates*) para procesar:\n",
    "\n",
    "    - todos los elementos del `<teiheader>`\n",
    "    - y todos los elementos del `<text>`.\n",
    "    \n",
    "Asimismo deben crear un nuevo CSS para todos elementos XHTML resultantes (pueden ser `<div>` o `<span>`).\n",
    "\n",
    "## Condiciones de entrega\n",
    "\n",
    "1. **Plazo: viernes 5 de marzo a las 4:30pm.**\n",
    "2. Creen una carpeta llamada `Tarea 4` en su carpeta personal del repositorio de GitHub. (A las 4:30pm del 4 de marzo yo clonaré el repositorio en mi computador y solo corregiré lo que esté ahí. No recibiré nada por email o después de esa hora.)\n",
    "3. Pongan su nombre en el elemento \n",
    "3. Guarden ahí el documento XSLT (e.g. `vaughan.xsl`) y el nuevo CSS (e.g. `vaughan.css`). Asegúrense de que ambos estén correctamente vinculados entre sí."
   ]
  },
  {
   "cell_type": "code",
   "execution_count": null,
   "metadata": {},
   "outputs": [],
   "source": []
  }
 ],
 "metadata": {
  "kernelspec": {
   "display_name": "Python 3",
   "language": "python",
   "name": "python3"
  },
  "language_info": {
   "codemirror_mode": {
    "name": "ipython",
    "version": 3
   },
   "file_extension": ".py",
   "mimetype": "text/x-python",
   "name": "python",
   "nbconvert_exporter": "python",
   "pygments_lexer": "ipython3",
   "version": "3.9.1"
  }
 },
 "nbformat": 4,
 "nbformat_minor": 2
}
