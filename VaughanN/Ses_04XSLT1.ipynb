{
 "cells": [
  {
   "cell_type": "markdown",
   "metadata": {},
   "source": [
    "# Herramientas digitales \n",
    "## Módulo 1: Texto digital (202021)\n",
    "\n",
    "## [Maestría en Humanidades Digitales, Universidad de los Andes](https://posgradosfacartes.uniandes.edu.co/programas/humanidades-digitales/)\n",
    "\n",
    "#### [Nicolás Vaughan](https://posgradosfacartes.uniandes.edu.co/miembro/nicolas-vaughan-caro/)\n",
    "\n",
    "## Sesión 4: Introducción a XPath y XSLT (1)"
   ]
  },
  {
   "cell_type": "markdown",
   "metadata": {},
   "source": [
    "***  "
   ]
  },
  {
   "cell_type": "markdown",
   "metadata": {},
   "source": [
    "# 1. Oxgarage\n",
    "\n",
    "- Oxgarage (https://oxgarage.tei-c.org/) es una aplicación web, creada por el TEI-C, para transformar documentos TEI a varios formatos comunes y viceversa.\n",
    "\n",
    "- Por ejemplo, guarden en su computador y suban a Oxgarage el documento: https://raw.githubusercontent.com/nivaca/HD2020-20/master/otros/tei/cartabolivar.xml\n",
    "\n",
    "- Prueben convirtiéndolo a varios formatos.\n",
    "\n",
    "![oxgarage](https://raw.githubusercontent.com/nivaca/HD202010/master/img/oxgarage.png)\n",
    "\n",
    "---\n"
   ]
  },
  {
   "cell_type": "markdown",
   "metadata": {},
   "source": [
    "# 2. XPath\n",
    "\n",
    "- Bajen y abran en Oxygen XML Editor el archivo https://raw.githubusercontent.com/nivaca/HD2020-20/master/otros/tei/cartabolivar.xml\n",
    "\n",
    "- En la barra de XPath en Oxygen XML Editor\n",
    " \n",
    "![oxxpath](https://raw.githubusercontent.com/nivaca/HD202010/master/img/oxxpath.png)\n",
    "\n",
    "sobre el documento cartabolivar.xml`, hagan las siguientes búsquedas:\n",
    "\n",
    "- `/TEI/teiHeader/fileDesc/titleStmt/title`\n",
    "- `//title`\n",
    "- `//title[@type=\"periódico\"]`\n",
    "- `//p/title`\n",
    "- `//p[1]`\n",
    "- `//p[last()]`\n",
    "- `//p[last()-1]`\n",
    "- `count(//p)`\n",
    "- `//num[@value]`\n",
    "- `//num/@value`\n",
    "- `sum(//num/@value)`\n",
    "- `//num/.`\n",
    "- `//p/.`\n",
    "- `//p[1]/.`\n",
    "- `//p[1]/normalize-space(.)`\n",
    "- `substring-before(//p[1]/normalize-space(.), ' ')`\n",
    "- `replace(//p[3], 'imposible', 'inconcebible')`\n",
    "\n",
    "\n",
    "- Para más detalles sobre el funcionamiento y la sintaxis de XPath vean [aquí](https://www.w3schools.com/xml/xpath_syntax.asp).\n",
    "---"
   ]
  }
 ],
 "metadata": {
  "kernelspec": {
   "display_name": "Python 3",
   "language": "python",
   "name": "python3"
  },
  "language_info": {
   "codemirror_mode": {
    "name": "ipython",
    "version": 3
   },
   "file_extension": ".py",
   "mimetype": "text/x-python",
   "name": "python",
   "nbconvert_exporter": "python",
   "pygments_lexer": "ipython3",
   "version": "3.9.1"
  }
 },
 "nbformat": 4,
 "nbformat_minor": 2
}
