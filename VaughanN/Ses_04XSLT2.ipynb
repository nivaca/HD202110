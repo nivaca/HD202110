{
 "cells": [
  {
   "cell_type": "markdown",
   "metadata": {},
   "source": [
    "# Herramientas digitales \n",
    "## Módulo 1: Texto digital (202021)\n",
    "\n",
    "## [Maestría en Humanidades Digitales, Universidad de los Andes](https://posgradosfacartes.uniandes.edu.co/programas/humanidades-digitales/)\n",
    "\n",
    "#### [Nicolás Vaughan](https://posgradosfacartes.uniandes.edu.co/miembro/nicolas-vaughan-caro/)\n",
    "\n",
    "## Sesión 5: Introducción a XPath y XSLT (2)"
   ]
  },
  {
   "cell_type": "markdown",
   "metadata": {},
   "source": [
    "***  "
   ]
  },
  {
   "cell_type": "markdown",
   "metadata": {},
   "source": [
    "# 1. XSLT\n",
    "\n",
    "- Guarden en su computador el archivo [carta.xsl](https://raw.githubusercontent.com/nivaca/HD2020-20/master/otros/tei/carta.xsl) y ábranlo en Oxygen XML Editor.\n",
    "\n",
    "- Pasen a modo XSLT en Oxygen XML Editor:\n",
    "![oxxslt](https://raw.githubusercontent.com/nivaca/HD202010/master/img/oxxslt.png)\n",
    "\n",
    "<br/>\n",
    "\n",
    "- Asegúrense de que `cartabolivar.xml` y `carta.xsl` estén seleccionados en los campos `XML:` y `XSL:`, respectivamente en la barra de arriba:\n",
    "![oxxsltsetup](https://raw.githubusercontent.com/nivaca/HD202010/master/img/oxxsltsetup.png)\n",
    "\n",
    "<br/>\n",
    "\n",
    "- Ejecuten la transformación XSLT haciendo click en la flecha azul:\n",
    "![oxxsltrun](https://raw.githubusercontent.com/nivaca/HD202010/master/img/oxxsltrun.png)\n",
    "\n",
    "<br/>\n",
    "\n",
    "- Podemos *visualizar* el resultado como XHTML haciendo click en este botón y corriendo de nuevo la transformación:\n",
    "![oxxsltrun](https://raw.githubusercontent.com/nivaca/HD202010/master/img/oxxslthtmlprev.png)\n",
    "\n",
    "<br/>\n",
    "\n",
    "- O también podemos *guardar* el resultado como XHTML escribiendo un nombre de archivo en este campo y corriendo de nuevo la transformación:\n",
    "![oxxsltrun](https://raw.githubusercontent.com/nivaca/HD202010/master/img/oxxslthtmlout.png)\n",
    "---"
   ]
  },
  {
   "cell_type": "markdown",
   "metadata": {},
   "source": [
    "<!--\n",
    "\n",
    "# Tarea 4\n",
    "\n",
    "## Objetivo\n",
    "Aplicar los conocimientos adquiridos de TEI, XSLT, HTML y CSS a fin de crear un transformaciones XSLT sobre un documento TEI XML y producir un documento XHTML.\n",
    "\n",
    "\n",
    "## Instrucciones\n",
    "1. Creen plantillas de transformación para cada uno de los elementos de la cartas.\n",
    "\n",
    "2. Deben usar esta versión: https://raw.githubusercontent.com/nivaca/HD202110/main/VaughanN/otros/tei/cartabolivar.xml\n",
    "\n",
    "3. Deben usar estilos CSS (bien sea \"en línea\" —i.e. con `@style`— o en un archivo CSS externo).\n",
    "    \n",
    "4. Solo deben entregar el archivo `.xsl` (y, si lo usan, el `.css`). (*No* me manden videos, imágenes, PDF, etc.)\n",
    "\n",
    "## Condiciones de entrega\n",
    "1. Plazo: viernes 5 de marzo a las 4:30pm\n",
    "2. A mi correo: n.vaughan20@uniandes.edu.co\n",
    "3. Tema del correo: `Herramientas Digitales - Tarea No.4 HD [su nombre]`\n",
    "4. Los nombres de los archivos deben contener su apellido, e.g. `xslt_vaughan.xsl`, `estilos_vaughan.css`\n",
    "\n",
    "-->"
   ]
  },
  {
   "cell_type": "code",
   "execution_count": null,
   "metadata": {},
   "outputs": [],
   "source": []
  }
 ],
 "metadata": {
  "kernelspec": {
   "display_name": "Python 3",
   "language": "python",
   "name": "python3"
  },
  "language_info": {
   "codemirror_mode": {
    "name": "ipython",
    "version": 3
   },
   "file_extension": ".py",
   "mimetype": "text/x-python",
   "name": "python",
   "nbconvert_exporter": "python",
   "pygments_lexer": "ipython3",
   "version": "3.9.1"
  }
 },
 "nbformat": 4,
 "nbformat_minor": 2
}
